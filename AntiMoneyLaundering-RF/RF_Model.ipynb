{
 "cells": [
  {
   "cell_type": "markdown",
   "metadata": {},
   "source": [
    "## Dataset loading and prepping"
   ]
  },
  {
   "cell_type": "code",
   "execution_count": 1,
   "metadata": {},
   "outputs": [],
   "source": [
    "import pandas as pd\n",
    "import numpy as np\n",
    "import joblib\n",
    "from sklearn.ensemble import RandomForestClassifier\n",
    "from sklearn.metrics import  confusion_matrix, ConfusionMatrixDisplay, classification_report\n",
    "from sklearn.model_selection import train_test_split, learning_curve, RandomizedSearchCV\n",
    "import matplotlib.pyplot as plt\n",
    "\n",
    "#Load the csv files into dataframes\n",
    "df_classes = pd.read_csv('elliptic_txs_classes.csv')\n",
    "df_edges = pd.read_csv('elliptic_txs_edgelist.csv')\n",
    "df_features = pd.read_csv('elliptic_txs_features.csv', header=None)"
   ]
  },
  {
   "cell_type": "code",
   "execution_count": 2,
   "metadata": {},
   "outputs": [
    {
     "name": "stderr",
     "output_type": "stream",
     "text": [
      "C:\\Users\\there\\AppData\\Local\\Temp\\ipykernel_3132\\1987003630.py:11: FutureWarning: Downcasting behavior in `replace` is deprecated and will be removed in a future version. To retain the old behavior, explicitly call `result.infer_objects(copy=False)`. To opt-in to the future behavior, set `pd.set_option('future.no_silent_downcasting', True)`\n",
      "  df_features['class'] = df_features['class'].replace({'1':1, 'suspicious':1 , '2':0})\n"
     ]
    }
   ],
   "source": [
    "#Rename the feature df's column headers\n",
    "df_features.columns = ['txId', 'timestep'] + [f'transaction_feat_{i}' for i in range(2,95)] + [f'aggr_feat_{i}' for i in range(1,73)]\n",
    "\n",
    "#Merge the classes df with the features df\n",
    "df_features = pd.merge(df_features, df_classes, left_on='txId', right_on='txId', how='left')\n",
    "\n",
    "#Remove the unknown transactions and combine the illicit and suspisious transactions\n",
    "df_features = df_features.drop(df_features[df_features['class'] == 'unknown'].index)\n",
    "timesteps_to_remove = [48, 49]\n",
    "df_features= df_features.drop(df_features[df_features['timestep'].isin(timesteps_to_remove)].index)\n",
    "df_features['class'] = df_features['class'].replace({'1':1, 'suspicious':1 , '2':0})\n",
    "\n",
    "#df_features.groupby('timestep').size()"
   ]
  },
  {
   "cell_type": "markdown",
   "metadata": {},
   "source": [
    "## Model training"
   ]
  },
  {
   "cell_type": "code",
   "execution_count": 3,
   "metadata": {},
   "outputs": [],
   "source": [
    "#Splitting the data set\n",
    "x = df_features.drop(['txId', 'timestep', 'class'], axis =1)\n",
    "y = df_features['class']\n",
    "trainX, testX, trainY, testY = train_test_split(x, y, test_size=0.3, random_state=30, shuffle = True, stratify=y)"
   ]
  },
  {
   "cell_type": "code",
   "execution_count": 4,
   "metadata": {},
   "outputs": [
    {
     "data": {
      "text/plain": [
       "['random_forest_model.pkl']"
      ]
     },
     "execution_count": 4,
     "metadata": {},
     "output_type": "execute_result"
    }
   ],
   "source": [
    "#Training the model\n",
    "#rf_Model = RandomForestClassifier(n_estimators=50, max_depth=100, max_features=50, random_state=15)\n",
    "\n",
    "rf_Model = RandomForestClassifier(max_depth=20, min_samples_leaf=2, min_samples_split=5,\n",
    "                       n_estimators=200, random_state=15)\n",
    "\n",
    "rf_Model.fit(trainX, trainY)\n",
    "train_pred = rf_Model.predict(trainX)\n",
    "test_pred = rf_Model.predict(testX)\n",
    "\n",
    "joblib.dump(rf_Model, 'random_forest_model.pkl')"
   ]
  },
  {
   "cell_type": "code",
   "execution_count": null,
   "metadata": {},
   "outputs": [],
   "source": [
    "param_grid = {\n",
    "    'n_estimators': [100, 200, 300],\n",
    "    'max_depth': [10, 15, 20],\n",
    "    'min_samples_split': [5, 10],\n",
    "    'min_samples_leaf': [2, 4, 5],\n",
    "    'max_features': ['sqrt', 'log2', 10]  \n",
    "}\n",
    "\n",
    "# Perform RandomizedSearchCV for hyperparameter tuning\n",
    "rf_random = RandomizedSearchCV(estimator=rf_Model, param_distributions=param_grid, n_iter=10, cv=3, random_state=42)\n",
    "rf_random.fit(trainX, trainY)\n",
    "\n",
    "# Use the best model from the search\n",
    "best_rf_Model = rf_random.best_estimator_\n",
    "\n",
    "# Train the model\n",
    "best_rf_Model.fit(trainX, trainY)"
   ]
  },
  {
   "cell_type": "code",
   "execution_count": 5,
   "metadata": {},
   "outputs": [],
   "source": [
    "train_pred = rf_Model.predict(trainX)\n",
    "test_pred = rf_Model.predict(testX)"
   ]
  },
  {
   "cell_type": "code",
   "execution_count": 6,
   "metadata": {},
   "outputs": [
    {
     "name": "stdout",
     "output_type": "stream",
     "text": [
      "\n",
      "Classification Report:\n",
      "              precision    recall  f1-score   support\n",
      "\n",
      "           0       0.97      0.99      0.98     12349\n",
      "           1       0.98      0.96      0.97      8816\n",
      "\n",
      "    accuracy                           0.98     21165\n",
      "   macro avg       0.98      0.97      0.97     21165\n",
      "weighted avg       0.98      0.98      0.98     21165\n",
      "\n"
     ]
    }
   ],
   "source": [
    "print('\\nClassification Report:')\n",
    "print(classification_report(testY, test_pred))"
   ]
  },
  {
   "cell_type": "code",
   "execution_count": 7,
   "metadata": {},
   "outputs": [
    {
     "data": {
      "image/png": "[encoded data removed]",
      "text/plain": [
       "<Figure size 640x480 with 2 Axes>"
      ]
     },
     "metadata": {},
     "output_type": "display_data"
    }
   ],
   "source": [
    "# Generate confusion matrix\n",
    "cm = confusion_matrix(testY, test_pred)\n",
    "disp = ConfusionMatrixDisplay(confusion_matrix=cm, display_labels=['legal', 'illegal'])\n",
    "# Plot confusion matrix\n",
    "disp.plot(cmap=plt.cm.Blues)\n",
    "plt.title('Confusion Matrix')\n",
    "plt.show()"
   ]
  },
  {
   "cell_type": "code",
   "execution_count": null,
   "metadata": {},
   "outputs": [],
   "source": [
    "from sklearn.model_selection import learning_curve\n",
    "\n",
    "train_sizes, train_scores, test_scores = learning_curve(rf_Model, trainX, trainY, cv=5, scoring='accuracy', n_jobs=-1)\n",
    "\n",
    "# Calculate the mean and standard deviation of training/test scores\n",
    "train_scores_mean = np.mean(train_scores, axis=1)\n",
    "test_scores_mean = np.mean(test_scores, axis=1)\n",
    "\n",
    "# Plot learning curve\n",
    "plt.figure()\n",
    "plt.plot(train_sizes, train_scores_mean, label=\"Training score\", color=\"blue\")\n",
    "plt.plot(train_sizes, test_scores_mean, label=\"Cross-validation score\", color=\"green\")\n",
    "plt.xlabel(\"Training Examples\")\n",
    "plt.ylabel(\"Score\")\n",
    "plt.title(\"Learning Curve\")\n",
    "plt.legend(loc=\"best\")\n",
    "plt.show()\n"
   ]
  }
 ],
 "metadata": {
  "kernelspec": {
   "display_name": "Python 3",
   "language": "python",
   "name": "python3"
  },
  "language_info": {
   "codemirror_mode": {
    "name": "ipython",
    "version": 3
   },
   "file_extension": ".py",
   "mimetype": "text/x-python",
   "name": "python",
   "nbconvert_exporter": "python",
   "pygments_lexer": "ipython3",
   "version": "3.12.3"
  }
 },
 "nbformat": 4,
 "nbformat_minor": 2
}
